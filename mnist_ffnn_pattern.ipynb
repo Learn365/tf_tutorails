{
 "cells": [
  {
   "cell_type": "code",
   "execution_count": 9,
   "metadata": {
    "collapsed": true
   },
   "outputs": [],
   "source": [
    "import math\n",
    "import tensorflow as tf"
   ]
  },
  {
   "cell_type": "code",
   "execution_count": 10,
   "metadata": {},
   "outputs": [
    {
     "data": {
      "text/plain": [
       "'Builds the MNIST front-forwards network\\n\\nImplements the inference/loss/training pattern for model building\\n\\n1. inference() - Builds the model as far as required for running the network forward to make predictions.\\n2. loss() - Adds to the inference model the layers required to generate loss.\\n3. training() - Adds to the loss model the Ops required to generate and apply gradients.\\n\\nThis file is used by the various \"mnist_*.py\" files and not meant to be run.\\n\\n'"
      ]
     },
     "execution_count": 10,
     "metadata": {},
     "output_type": "execute_result"
    }
   ],
   "source": [
    "\"\"\"Builds the MNIST front-forwards network\n",
    "\n",
    "Implements the inference/loss/training pattern for model building\n",
    "\n",
    "1. inference() - Builds the model as far as required for running the network forward to make predictions.\n",
    "2. loss() - Adds to the inference model the layers required to generate loss.\n",
    "3. training() - Adds to the loss model the Ops required to generate and apply gradients.\n",
    "\n",
    "This file is used by the various \"mnist_*.py\" files and not meant to be run.\n",
    "\n",
    "\"\"\""
   ]
  },
  {
   "cell_type": "code",
   "execution_count": 3,
   "metadata": {
    "collapsed": true
   },
   "outputs": [],
   "source": [
    "# The MNIST dataset has 10 classes, representing the digits 0 through 9.\n",
    "NUM_CLASSES = 10\n",
    "\n",
    "# The MNIST images are always 28x28 pixels.\n",
    "IMAGE_SIZE = 28\n",
    "IMAGE_PIXELS = IMAGE_SIZE * IMAGE_SIZE"
   ]
  },
  {
   "cell_type": "code",
   "execution_count": 4,
   "metadata": {},
   "outputs": [
    {
     "ename": "SyntaxError",
     "evalue": "positional argument follows keyword argument (<ipython-input-4-94b16dd9b5c4>, line 2)",
     "output_type": "error",
     "traceback": [
      "\u001b[0;36m  File \u001b[0;32m\"<ipython-input-4-94b16dd9b5c4>\"\u001b[0;36m, line \u001b[0;32m2\u001b[0m\n\u001b[0;31m    initial = tf.truncated_normal(shape=shape, stddev)\u001b[0m\n\u001b[0m                                              ^\u001b[0m\n\u001b[0;31mSyntaxError\u001b[0m\u001b[0;31m:\u001b[0m positional argument follows keyword argument\n"
     ]
    }
   ],
   "source": [
    "def weight_variable(shape, stddev):\n",
    "    initial = tf.truncated_normal(shape=shape, stddev)\n",
    "    return tf.Variable(initial, name=\"weights\")\n",
    "\n",
    "\n",
    "def bias_variable(shape):\n",
    "    return tf.Variable(tf.zeros(shape), name=\"biases\")"
   ]
  },
  {
   "cell_type": "code",
   "execution_count": 5,
   "metadata": {
    "collapsed": true
   },
   "outputs": [],
   "source": [
    "def inference(images, hidden1_units, hidden2_units):\n",
    "    \"\"\"Build the MNIST model up to where it may be used for inference.\n",
    "    \n",
    "    Args:\n",
    "        images: Images placeholder, from inputs().\n",
    "        hidden1_units: Size of the first hidden layer.\n",
    "        hidden2_units: Size of the second hidden layer.\n",
    "        \n",
    "    Returns:\n",
    "        softmax_linear: Output tensor with the computed logits\n",
    "    \"\"\"\n",
    "\n",
    "    # Hidden 1\n",
    "    with tf.name_scope(\"hidden1\"):\n",
    "        weights = weight_variable(\n",
    "            shape=[IMAGE_PIXELS, hidden1_units],\n",
    "            stddev=1.0 / math.sqrt(float(IMAGE_PIXELS)))\n",
    "\n",
    "        biases = bias_variable(shape=[hidden1_units])\n",
    "\n",
    "        hidden1 = tf.nn.relu(tf.matmul(images, weights) + biases)\n",
    "\n",
    "    # Hidden 2\n",
    "    with tf.name_scope(\"hidden2\"):\n",
    "        weights = weight_variable(\n",
    "            shape=[hidden1_units, hidden2_units],\n",
    "            stddev=1.0 / match.sqrt(float(hidden1_units)))\n",
    "\n",
    "        biases = bias_variable(shape=[hidden2_units])\n",
    "\n",
    "        hidden2 = tf.nn.relu(tf.matmul(hidden1, weights) + biases)\n",
    "\n",
    "    # Linear\n",
    "    with tf.name_scope(\"softmax_linear\"):\n",
    "        weights = weight_variable(\n",
    "            shape=[hidden2_units, NUM_CLASSES],\n",
    "            stddev=1.0 / math.sqrt(float(hidden2_units)))\n",
    "\n",
    "        biases = bias_variable(shape=[NUM_CLASSES])\n",
    "\n",
    "        logits = tf.matmul(hidden2, weights) + biases\n",
    "\n",
    "    return logits"
   ]
  },
  {
   "cell_type": "code",
   "execution_count": 6,
   "metadata": {
    "collapsed": true
   },
   "outputs": [],
   "source": [
    "def loss(logits, labels):\n",
    "    \"\"\"Calculates the loss from the logits and the labels\n",
    "    \n",
    "    \n",
    "    Args:\n",
    "        logits: logits tensor, float - [batch_size, NUM_CLASSES].\n",
    "        labels: labels tensor, int32 - [batch_size]\n",
    "        \n",
    "    Returns:\n",
    "        loss: Loss tensor of type float.\n",
    "    \n",
    "    \"\"\"\n",
    "    labels = tf.to_int64(labels)\n",
    "    cross_entropy = tf.nn.sparse_softmax_cross_entropy_with_logits(\n",
    "        labels=labels, logits=logits, name=\"xentropy\")\n",
    "    loss = tf.reduce_mean(cross_entropy, name=\"xentropy_mean\")"
   ]
  },
  {
   "cell_type": "code",
   "execution_count": 7,
   "metadata": {
    "collapsed": true
   },
   "outputs": [],
   "source": [
    "def trianing(loss, learning_rate):\n",
    "    \"\"\"Sets up the training Ops.\n",
    "    \n",
    "    Creates a summarizer to track the loss over time in TensorBoard.\n",
    "    \n",
    "    Creates an optimizer and applies the gradients to all trainable variables.\n",
    "    \n",
    "    The Op returned by this function is what must be passed to the `sess.run()` call to cause the model to train.\n",
    "    \n",
    "    Args:\n",
    "        loss: Loss tensor, from loss().\n",
    "        learning_rate: The learning rate to use for gradient descent.\n",
    "        \n",
    "    Returns:\n",
    "        train_op: The Op for training.\n",
    "    \"\"\"\n",
    "\n",
    "    # Add a scalar summary for the snapshot loss.\n",
    "    tf.summary.scalar(\"loss\", loss)\n",
    "\n",
    "    # Create the gradient descent optimizer with the given learning rate.\n",
    "    optimizer = tf.train.GradientDescentOptimizer(learning_rate)\n",
    "    # Create a variable to track the global step.\n",
    "    global_step = tf.Variable(0, name=\"global_step\", trainable=False)\n",
    "    # Use the optimizer to apply the gradients that minimize the loss\n",
    "    # (and also increment the global step counter) as a single training step.\n",
    "    train_op = optimizer.minimize(loss, global_step=global_step)\n",
    "    \n",
    "    return train_op"
   ]
  },
  {
   "cell_type": "code",
   "execution_count": 8,
   "metadata": {
    "collapsed": true
   },
   "outputs": [],
   "source": [
    "def evaluation(logits, labels):\n",
    "    \"\"\"Evaluate the quality of the logits at predicting the label.\n",
    "    \n",
    "    Args:\n",
    "        logits: Logits tensor, float - [batch_size, NUM_CLASSES].\n",
    "        labels: labels tensor, int32 - [batch_size], with values in the range [0, NUM_CLASSES).\n",
    "        \n",
    "    Returns:\n",
    "        A scalar int32 tensor with the number of examples (out of batch_size)\n",
    "        that were predicted correctly.\n",
    "    \"\"\"\n",
    "\n",
    "    # For a classifier model, we can use the in_top_k op.\n",
    "    # It returns a bool tensor with shape [batch_size] that is true for\n",
    "    # the examples where the label is the top k (here k=1)\n",
    "    # of all logits for the example.\n",
    "    correct = tf.nn.in_top_k(logits, labels, 1)\n",
    "    # return the number of true entries\n",
    "    return tf.reduce_sum(tf.cast(correct, tf.int32))"
   ]
  },
  {
   "cell_type": "code",
   "execution_count": null,
   "metadata": {
    "collapsed": true
   },
   "outputs": [],
   "source": []
  }
 ],
 "metadata": {
  "kernelspec": {
   "display_name": "Python 3",
   "language": "python",
   "name": "python3"
  },
  "language_info": {
   "codemirror_mode": {
    "name": "ipython",
    "version": 3
   },
   "file_extension": ".py",
   "mimetype": "text/x-python",
   "name": "python",
   "nbconvert_exporter": "python",
   "pygments_lexer": "ipython3",
   "version": "3.5.2"
  }
 },
 "nbformat": 4,
 "nbformat_minor": 2
}
