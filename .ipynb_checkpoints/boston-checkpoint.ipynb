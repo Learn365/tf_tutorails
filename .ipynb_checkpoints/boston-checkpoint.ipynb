{
 "cells": [
  {
   "cell_type": "code",
   "execution_count": 33,
   "metadata": {
    "collapsed": true
   },
   "outputs": [],
   "source": [
    "import itertools\n",
    "\n",
    "import os\n",
    "import urllib.request\n",
    "import pandas as pd\n",
    "import tensorflow as tf"
   ]
  },
  {
   "cell_type": "code",
   "execution_count": 34,
   "metadata": {
    "collapsed": true
   },
   "outputs": [],
   "source": [
    "tf.logging.set_verbosity(tf.logging.INFO)"
   ]
  },
  {
   "cell_type": "code",
   "execution_count": 35,
   "metadata": {
    "collapsed": true
   },
   "outputs": [],
   "source": [
    "# Dataset files and urls\n",
    "BOSTON_TRAINING=\"./BOSTON_data/boston_train.csv\"\n",
    "BOSTON_TRAINING_URL=\"http://download.tensorflow.org/data/boston_train.csv\"\n",
    "\n",
    "BOSTON_TEST=\"./BOSTON_data/boston_test.csv\"\n",
    "BOSTON_TEST_URL=\"http://download.tensorflow.org/data/boston_test.csv\"\n",
    "\n",
    "BOSTON_PREDICT=\"./BOSTON_data/boston_predict.csv\"\n",
    "BOSTON_PREDICT_URL=\"http://download.tensorflow.org/data/boston_predict.csv\""
   ]
  },
  {
   "cell_type": "code",
   "execution_count": 36,
   "metadata": {
    "collapsed": true
   },
   "outputs": [],
   "source": [
    "# Define columns\n",
    "COLUMNS = [\n",
    "    \"crim\", \"zn\", \"indus\", \"nox\", \"rm\", \"age\", \"dis\", \"tax\", \"ptratio\", \"medv\"\n",
    "]\n",
    "# Define features\n",
    "FEATURES = [\"crim\", \"zn\", \"indus\", \"nox\", \"rm\", \"age\", \"dis\", \"tax\", \"ptratio\"]\n",
    "# Define Label\n",
    "LABEL = \"medv\""
   ]
  },
  {
   "cell_type": "code",
   "execution_count": 37,
   "metadata": {},
   "outputs": [],
   "source": [
    "# Download dataset\n",
    "datasets = [{\n",
    "    \"file\": BOSTON_TRAINING,\n",
    "    \"url\": BOSTON_TRAINING_URL\n",
    "}, {\n",
    "    \"file\": BOSTON_TEST,\n",
    "    \"url\": BOSTON_TEST_URL\n",
    "}, {\n",
    "    \"file\": BOSTON_PREDICT,\n",
    "    \"url\": BOSTON_PREDICT_URL\n",
    "}]\n",
    "\n",
    "for dataset in datasets:\n",
    "    # print(os.path.dirname(dataset[\"file\"]))\n",
    "    if not os.path.exists(os.path.dirname(dataset[\"file\"])):\n",
    "        os.mkdir(os.path.dirname(dataset[\"file\"]))\n",
    "\n",
    "    if not os.path.exists(dataset[\"file\"]):\n",
    "        raw = urllib.request.urlopen(dataset[\"url\"]).read()\n",
    "        with open(dataset[\"file\"], \"wb\") as f:\n",
    "            f.write(raw)"
   ]
  },
  {
   "cell_type": "code",
   "execution_count": 38,
   "metadata": {},
   "outputs": [],
   "source": [
    "training_set = pd.read_csv(\n",
    "    BOSTON_TRAINING,\n",
    "    skipinitialspace=True,\n",
    "    skiprows=1,\n",
    "    names=COLUMNS)\n",
    "\n",
    "test_set = pd.read_csv(\n",
    "    BOSTON_TEST,\n",
    "    skipinitialspace=True,\n",
    "    skiprows=1,\n",
    "    names=COLUMNS)\n",
    "\n",
    "prediction_set = pd.read_csv(\n",
    "    BOSTON_PREDICT,\n",
    "    skipinitialspace=True,\n",
    "    skiprows=1,\n",
    "    names=COLUMNS)"
   ]
  },
  {
   "cell_type": "code",
   "execution_count": 39,
   "metadata": {
    "collapsed": true
   },
   "outputs": [],
   "source": [
    "# Define FeatureColumns\n",
    "feature_cols=[tf.feature_column.numeric_column(k) for k in FEATURES]"
   ]
  },
  {
   "cell_type": "code",
   "execution_count": 40,
   "metadata": {},
   "outputs": [
    {
     "name": "stdout",
     "output_type": "stream",
     "text": [
      "INFO:tensorflow:Using default config.\n",
      "INFO:tensorflow:Using config: {'_log_step_count_steps': 100, '_save_checkpoints_steps': None, '_session_config': None, '_keep_checkpoint_max': 5, '_keep_checkpoint_every_n_hours': 10000, '_save_checkpoints_secs': 600, '_save_summary_steps': 100, '_tf_random_seed': 1, '_model_dir': './models/boston_model/'}\n"
     ]
    }
   ],
   "source": [
    "# Define Regressor\n",
    "regressor = tf.estimator.DNNRegressor(\n",
    "    feature_columns=feature_cols,\n",
    "    hidden_units=[10, 10],\n",
    "    model_dir=\"./models/boston_model/\")"
   ]
  },
  {
   "cell_type": "code",
   "execution_count": 41,
   "metadata": {
    "collapsed": true
   },
   "outputs": [],
   "source": [
    "# building the input_fn\n",
    "def get_input_fn(data_set, num_epochs=None, shuffle=True):\n",
    "    return tf.estimator.inputs.pandas_input_fn(\n",
    "        x=pd.DataFrame({k: data_set[k].values\n",
    "                        for k in FEATURES}),\n",
    "        y=pd.Series(data_set[LABEL].values),\n",
    "        num_epochs=num_epochs,\n",
    "        shuffle=shuffle)"
   ]
  },
  {
   "cell_type": "code",
   "execution_count": 42,
   "metadata": {},
   "outputs": [
    {
     "name": "stdout",
     "output_type": "stream",
     "text": [
      "INFO:tensorflow:Create CheckpointSaverHook.\n",
      "INFO:tensorflow:Restoring parameters from ./models/boston_model/model.ckpt-5000\n",
      "INFO:tensorflow:Saving checkpoints for 5001 into ./models/boston_model/model.ckpt.\n",
      "INFO:tensorflow:step = 5001, loss = 6370.14\n",
      "INFO:tensorflow:global_step/sec: 344.645\n",
      "INFO:tensorflow:step = 5101, loss = 4409.19 (0.291 sec)\n",
      "INFO:tensorflow:global_step/sec: 331.99\n",
      "INFO:tensorflow:step = 5201, loss = 2791.37 (0.301 sec)\n",
      "INFO:tensorflow:global_step/sec: 334.333\n",
      "INFO:tensorflow:step = 5301, loss = 3718.72 (0.301 sec)\n",
      "INFO:tensorflow:global_step/sec: 327.502\n",
      "INFO:tensorflow:step = 5401, loss = 2339.64 (0.304 sec)\n",
      "INFO:tensorflow:global_step/sec: 334.533\n",
      "INFO:tensorflow:step = 5501, loss = 3954.76 (0.299 sec)\n",
      "INFO:tensorflow:global_step/sec: 335.454\n",
      "INFO:tensorflow:step = 5601, loss = 4198.36 (0.300 sec)\n",
      "INFO:tensorflow:global_step/sec: 325.116\n",
      "INFO:tensorflow:step = 5701, loss = 2285.23 (0.306 sec)\n",
      "INFO:tensorflow:global_step/sec: 340.01\n",
      "INFO:tensorflow:step = 5801, loss = 4243.4 (0.294 sec)\n",
      "INFO:tensorflow:global_step/sec: 331.619\n",
      "INFO:tensorflow:step = 5901, loss = 4016.53 (0.301 sec)\n",
      "INFO:tensorflow:global_step/sec: 334.161\n",
      "INFO:tensorflow:step = 6001, loss = 4347.91 (0.302 sec)\n",
      "INFO:tensorflow:global_step/sec: 320.804\n",
      "INFO:tensorflow:step = 6101, loss = 4404.84 (0.311 sec)\n",
      "INFO:tensorflow:global_step/sec: 340.335\n",
      "INFO:tensorflow:step = 6201, loss = 3998.92 (0.292 sec)\n",
      "INFO:tensorflow:global_step/sec: 304.738\n",
      "INFO:tensorflow:step = 6301, loss = 4602.15 (0.328 sec)\n",
      "INFO:tensorflow:global_step/sec: 343.99\n",
      "INFO:tensorflow:step = 6401, loss = 2056.39 (0.292 sec)\n",
      "INFO:tensorflow:global_step/sec: 325.031\n",
      "INFO:tensorflow:step = 6501, loss = 1952.42 (0.310 sec)\n",
      "INFO:tensorflow:global_step/sec: 330.061\n",
      "INFO:tensorflow:step = 6601, loss = 4577.12 (0.301 sec)\n",
      "INFO:tensorflow:global_step/sec: 332.313\n",
      "INFO:tensorflow:step = 6701, loss = 1663.35 (0.301 sec)\n",
      "INFO:tensorflow:global_step/sec: 320.201\n",
      "INFO:tensorflow:step = 6801, loss = 4450.64 (0.312 sec)\n",
      "INFO:tensorflow:global_step/sec: 331.756\n",
      "INFO:tensorflow:step = 6901, loss = 4184.92 (0.300 sec)\n",
      "INFO:tensorflow:global_step/sec: 320.104\n",
      "INFO:tensorflow:step = 7001, loss = 2059.48 (0.312 sec)\n",
      "INFO:tensorflow:global_step/sec: 334.415\n",
      "INFO:tensorflow:step = 7101, loss = 2616.13 (0.299 sec)\n",
      "INFO:tensorflow:global_step/sec: 328.724\n",
      "INFO:tensorflow:step = 7201, loss = 3089.88 (0.306 sec)\n",
      "INFO:tensorflow:global_step/sec: 319.638\n",
      "INFO:tensorflow:step = 7301, loss = 3902.95 (0.315 sec)\n",
      "INFO:tensorflow:global_step/sec: 336.973\n",
      "INFO:tensorflow:step = 7401, loss = 4141.02 (0.293 sec)\n",
      "INFO:tensorflow:global_step/sec: 334.457\n",
      "INFO:tensorflow:step = 7501, loss = 4404.02 (0.299 sec)\n",
      "INFO:tensorflow:global_step/sec: 324.2\n",
      "INFO:tensorflow:step = 7601, loss = 2394.64 (0.309 sec)\n",
      "INFO:tensorflow:global_step/sec: 325.158\n",
      "INFO:tensorflow:step = 7701, loss = 5934.39 (0.309 sec)\n",
      "INFO:tensorflow:global_step/sec: 332.677\n",
      "INFO:tensorflow:step = 7801, loss = 2376.26 (0.300 sec)\n",
      "INFO:tensorflow:global_step/sec: 332.122\n",
      "INFO:tensorflow:step = 7901, loss = 4680.72 (0.304 sec)\n",
      "INFO:tensorflow:global_step/sec: 305.755\n",
      "INFO:tensorflow:step = 8001, loss = 2498.2 (0.326 sec)\n",
      "INFO:tensorflow:global_step/sec: 332.086\n",
      "INFO:tensorflow:step = 8101, loss = 6453.11 (0.302 sec)\n",
      "INFO:tensorflow:global_step/sec: 320.288\n",
      "INFO:tensorflow:step = 8201, loss = 3315.4 (0.313 sec)\n",
      "INFO:tensorflow:global_step/sec: 335.164\n",
      "INFO:tensorflow:step = 8301, loss = 2419.66 (0.298 sec)\n",
      "INFO:tensorflow:global_step/sec: 333.767\n",
      "INFO:tensorflow:step = 8401, loss = 3054.03 (0.298 sec)\n",
      "INFO:tensorflow:global_step/sec: 323.375\n",
      "INFO:tensorflow:step = 8501, loss = 4189.04 (0.308 sec)\n",
      "INFO:tensorflow:global_step/sec: 319.465\n",
      "INFO:tensorflow:step = 8601, loss = 2200.6 (0.315 sec)\n",
      "INFO:tensorflow:global_step/sec: 343.69\n",
      "INFO:tensorflow:step = 8701, loss = 4043.44 (0.293 sec)\n",
      "INFO:tensorflow:global_step/sec: 333.325\n",
      "INFO:tensorflow:step = 8801, loss = 1848.0 (0.299 sec)\n",
      "INFO:tensorflow:global_step/sec: 336.168\n",
      "INFO:tensorflow:step = 8901, loss = 3014.53 (0.295 sec)\n",
      "INFO:tensorflow:global_step/sec: 330.774\n",
      "INFO:tensorflow:step = 9001, loss = 4855.41 (0.302 sec)\n",
      "INFO:tensorflow:global_step/sec: 326.74\n",
      "INFO:tensorflow:step = 9101, loss = 3038.06 (0.306 sec)\n",
      "INFO:tensorflow:global_step/sec: 330.107\n",
      "INFO:tensorflow:step = 9201, loss = 4509.44 (0.303 sec)\n",
      "INFO:tensorflow:global_step/sec: 320.012\n",
      "INFO:tensorflow:step = 9301, loss = 1692.66 (0.316 sec)\n",
      "INFO:tensorflow:global_step/sec: 317.584\n",
      "INFO:tensorflow:step = 9401, loss = 2312.32 (0.314 sec)\n",
      "INFO:tensorflow:global_step/sec: 285.924\n",
      "INFO:tensorflow:step = 9501, loss = 4966.12 (0.346 sec)\n",
      "INFO:tensorflow:global_step/sec: 313.289\n",
      "INFO:tensorflow:step = 9601, loss = 3700.7 (0.323 sec)\n",
      "INFO:tensorflow:global_step/sec: 334.242\n",
      "INFO:tensorflow:step = 9701, loss = 3012.33 (0.296 sec)\n",
      "INFO:tensorflow:global_step/sec: 333.262\n",
      "INFO:tensorflow:step = 9801, loss = 2067.35 (0.302 sec)\n",
      "INFO:tensorflow:global_step/sec: 316.888\n",
      "INFO:tensorflow:step = 9901, loss = 4806.57 (0.317 sec)\n",
      "INFO:tensorflow:Saving checkpoints for 10000 into ./models/boston_model/model.ckpt.\n",
      "INFO:tensorflow:Loss for final step: 4292.65.\n"
     ]
    },
    {
     "data": {
      "text/plain": [
       "<tensorflow.python.estimator.canned.dnn.DNNRegressor at 0x7f1ba80eb4a8>"
      ]
     },
     "execution_count": 42,
     "metadata": {},
     "output_type": "execute_result"
    }
   ],
   "source": [
    "# Training the Regressor\n",
    "regressor.train(input_fn=get_input_fn(training_set),steps=5000)"
   ]
  },
  {
   "cell_type": "code",
   "execution_count": 43,
   "metadata": {},
   "outputs": [
    {
     "name": "stdout",
     "output_type": "stream",
     "text": [
      "INFO:tensorflow:Starting evaluation at 2017-09-10-15:32:40\n",
      "INFO:tensorflow:Restoring parameters from ./models/boston_model/model.ckpt-10000\n",
      "INFO:tensorflow:Finished evaluation at 2017-09-10-15:32:40\n",
      "INFO:tensorflow:Saving dict for global step 10000: average_loss = 12.2415, global_step = 10000, loss = 1224.15\n"
     ]
    }
   ],
   "source": [
    "# Evaluating the Model\n",
    "ev = regressor.evaluate(input_fn=get_input_fn(test_set,num_epochs=1,shuffle=False))"
   ]
  },
  {
   "cell_type": "code",
   "execution_count": 44,
   "metadata": {},
   "outputs": [
    {
     "name": "stdout",
     "output_type": "stream",
     "text": [
      "Loss: 1224.151855\n"
     ]
    }
   ],
   "source": [
    "# print evaluation\n",
    "loss_score=ev[\"loss\"]\n",
    "print(\"Loss: {0:f}\".format(loss_score))"
   ]
  },
  {
   "cell_type": "code",
   "execution_count": 45,
   "metadata": {},
   "outputs": [
    {
     "name": "stdout",
     "output_type": "stream",
     "text": [
      "INFO:tensorflow:Restoring parameters from ./models/boston_model/model.ckpt-10000\n",
      "Predictions: [33.977001, 18.957952, 23.900221, 34.674038, 15.781827, 19.159594]\n"
     ]
    }
   ],
   "source": [
    "# Making Predictions\n",
    "y = regressor.predict(input_fn=get_input_fn(prediction_set,num_epochs=1,shuffle=False))\n",
    "# .predict() returns an iterator of dicts; convert to a list and print \n",
    "# predictions\n",
    "\n",
    "predictions=list(p[\"predictions\"][0] for p in itertools.islice(y,6))\n",
    "print(\"Predictions: {}\".format(str(predictions)))"
   ]
  }
 ],
 "metadata": {
  "kernelspec": {
   "display_name": "Python 3",
   "language": "python",
   "name": "python3"
  },
  "language_info": {
   "codemirror_mode": {
    "name": "ipython",
    "version": 3
   },
   "file_extension": ".py",
   "mimetype": "text/x-python",
   "name": "python",
   "nbconvert_exporter": "python",
   "pygments_lexer": "ipython3",
   "version": "3.5.2"
  }
 },
 "nbformat": 4,
 "nbformat_minor": 2
}
