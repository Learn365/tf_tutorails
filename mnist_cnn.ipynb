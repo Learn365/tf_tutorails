{
 "cells": [
  {
   "cell_type": "code",
   "execution_count": 19,
   "metadata": {
    "collapsed": true
   },
   "outputs": [],
   "source": [
    "from tensorflow.examples.tutorials.mnist import input_data\n",
    "import tensorflow as tf"
   ]
  },
  {
   "cell_type": "code",
   "execution_count": 20,
   "metadata": {},
   "outputs": [
    {
     "name": "stdout",
     "output_type": "stream",
     "text": [
      "Extracting ./MNIST_data/train-images-idx3-ubyte.gz\n",
      "Extracting ./MNIST_data/train-labels-idx1-ubyte.gz\n",
      "Extracting ./MNIST_data/t10k-images-idx3-ubyte.gz\n",
      "Extracting ./MNIST_data/t10k-labels-idx1-ubyte.gz\n"
     ]
    }
   ],
   "source": [
    "# load data\n",
    "mnist = input_data.read_data_sets(\"./MNIST_data\", one_hot=True)"
   ]
  },
  {
   "cell_type": "code",
   "execution_count": 21,
   "metadata": {
    "collapsed": true
   },
   "outputs": [],
   "source": [
    "sess = tf.InteractiveSession()"
   ]
  },
  {
   "cell_type": "code",
   "execution_count": 22,
   "metadata": {
    "collapsed": true
   },
   "outputs": [],
   "source": [
    "# input and output\n",
    "x = tf.placeholder(tf.float32, shape=[None, 784])\n",
    "y_ = tf.placeholder(tf.float32, shape=[None, 10])\n",
    "# variables\n",
    "W = tf.Variable(tf.zeros([784, 10]))\n",
    "b = tf.Variable(tf.zeros([10]))\n",
    "# initial variables\n",
    "sess.run(tf.global_variables_initializer())\n",
    "# linear\n",
    "y = tf.matmul(x, W) + b"
   ]
  },
  {
   "cell_type": "code",
   "execution_count": 23,
   "metadata": {},
   "outputs": [],
   "source": [
    "# loss\n",
    "cross_entropy = tf.reduce_mean(\n",
    "    tf.nn.softmax_cross_entropy_with_logits(labels=y_, logits=y))\n",
    "# back\n",
    "train_step = tf.train.GradientDescentOptimizer(0.5).minimize(cross_entropy)"
   ]
  },
  {
   "cell_type": "code",
   "execution_count": 24,
   "metadata": {
    "collapsed": true
   },
   "outputs": [],
   "source": [
    "# train\n",
    "for _ in range(1000):\n",
    "    batch = mnist.train.next_batch(100)\n",
    "    train_step.run({x: batch[0], y_: batch[1]})"
   ]
  },
  {
   "cell_type": "code",
   "execution_count": 25,
   "metadata": {},
   "outputs": [
    {
     "name": "stdout",
     "output_type": "stream",
     "text": [
      "0.912\n"
     ]
    }
   ],
   "source": [
    "# prediction\n",
    "prediction = tf.equal(tf.argmax(y, 1), tf.argmax(y_, 1))\n",
    "accuracy = tf.reduce_mean(tf.cast(prediction, tf.float32))\n",
    "print(accuracy.eval({x: mnist.test.images, y_: mnist.test.labels}))"
   ]
  },
  {
   "cell_type": "code",
   "execution_count": 26,
   "metadata": {
    "collapsed": true
   },
   "outputs": [],
   "source": [
    "# weight and bias initialization\n",
    "def weight_variable(shape):\n",
    "    initial = tf.truncated_normal(shape, stddev=0.1)\n",
    "    return tf.Variable(initial)\n",
    "\n",
    "\n",
    "def bias_variable(shape):\n",
    "    initial = tf.truncated_normal(shape=shape,stddev=0.1)\n",
    "    return tf.Variable(initial)"
   ]
  },
  {
   "cell_type": "code",
   "execution_count": 27,
   "metadata": {
    "collapsed": true
   },
   "outputs": [],
   "source": [
    "# convolution and pooling\n",
    "def conv2d(x, W):\n",
    "    return tf.nn.conv2d(x, W, strides=[1, 1, 1, 1], padding=\"SAME\")\n",
    "\n",
    "\n",
    "def max_pool_2x2(x):\n",
    "    return tf.nn.max_pool(\n",
    "        x, ksize=[1, 2, 2, 1], strides=[1, 2, 2, 1], padding=\"SAME\")"
   ]
  },
  {
   "cell_type": "code",
   "execution_count": 28,
   "metadata": {},
   "outputs": [],
   "source": [
    "# 1st convolution layer\n",
    "W_conv1 = weight_variable([5, 5, 1, 32])\n",
    "b_conv1 = bias_variable([32])\n",
    "\n",
    "# reshape input\n",
    "x_image = tf.reshape(x, [-1, 28, 28, 1])\n",
    "\n",
    "h_conv1 = tf.nn.relu(conv2d(x_image, W_conv1) + b_conv1)\n",
    "h_pool1 = max_pool_2x2(h_conv1)"
   ]
  },
  {
   "cell_type": "code",
   "execution_count": 29,
   "metadata": {
    "collapsed": true
   },
   "outputs": [],
   "source": [
    "# 2nd convolution layer\n",
    "W_conv2 = weight_variable([5, 5, 32, 64])\n",
    "b_conv2 = bias_variable([64])\n",
    "\n",
    "h_conv2 = tf.nn.relu(conv2d(h_pool1, W_conv2) + b_conv2)\n",
    "h_pool2 = max_pool_2x2(h_conv2)"
   ]
  },
  {
   "cell_type": "code",
   "execution_count": 30,
   "metadata": {
    "collapsed": true
   },
   "outputs": [],
   "source": [
    "# densely connected layer\n",
    "W_fc1 = weight_variable([7 * 7 * 64, 1024])\n",
    "b_fc1 = bias_variable([1024])\n",
    "\n",
    "h_pool2_flat = tf.reshape(h_pool2, [-1, 7 * 7 * 64])\n",
    "h_fc1 = tf.nn.relu(tf.matmul(h_pool2_flat, W_fc1) + b_fc1)"
   ]
  },
  {
   "cell_type": "code",
   "execution_count": 31,
   "metadata": {
    "collapsed": true
   },
   "outputs": [],
   "source": [
    "# dropout layer\n",
    "keep_prob = tf.placeholder(tf.float32)\n",
    "h_fc1_drop = tf.nn.dropout(h_fc1, keep_prob)"
   ]
  },
  {
   "cell_type": "code",
   "execution_count": 32,
   "metadata": {
    "collapsed": true
   },
   "outputs": [],
   "source": [
    "# readout layer\n",
    "W_fc2 = weight_variable([1024, 10])\n",
    "b_fc2 = bias_variable([10])\n",
    "\n",
    "y_conv = tf.matmul(h_fc1_drop, W_fc2) + b_fc2"
   ]
  },
  {
   "cell_type": "code",
   "execution_count": 33,
   "metadata": {
    "collapsed": true
   },
   "outputs": [],
   "source": [
    "# loss\n",
    "cross_entropy = tf.reduce_mean(\n",
    "    tf.nn.softmax_cross_entropy_with_logits(labels=y_, logits=y_conv))\n",
    "train_step = tf.train.AdamOptimizer(1e-4).minimize(cross_entropy)\n",
    "# prediction\n",
    "prediction = tf.equal(tf.argmax(y_conv, 1), tf.argmax(y_, 1))\n",
    "accuracy = tf.reduce_mean(tf.cast(prediction, tf.float32))"
   ]
  },
  {
   "cell_type": "code",
   "execution_count": null,
   "metadata": {},
   "outputs": [
    {
     "name": "stdout",
     "output_type": "stream",
     "text": [
      "step 0, trainning accuracy 0.08\n",
      "step 100, trainning accuracy 0.88\n",
      "step 200, trainning accuracy 0.94\n",
      "step 300, trainning accuracy 0.8\n",
      "step 400, trainning accuracy 0.96\n",
      "step 500, trainning accuracy 0.96\n",
      "step 600, trainning accuracy 0.9\n",
      "step 700, trainning accuracy 0.94\n",
      "step 800, trainning accuracy 0.98\n",
      "step 900, trainning accuracy 0.94\n",
      "step 1000, trainning accuracy 0.96\n",
      "step 1100, trainning accuracy 0.98\n",
      "step 1200, trainning accuracy 0.94\n",
      "step 1300, trainning accuracy 1\n",
      "step 1400, trainning accuracy 0.96\n",
      "step 1500, trainning accuracy 0.96\n",
      "step 1600, trainning accuracy 0.98\n",
      "step 1700, trainning accuracy 0.98\n",
      "step 1800, trainning accuracy 0.98\n",
      "step 1900, trainning accuracy 0.98\n",
      "step 2000, trainning accuracy 0.96\n",
      "step 2100, trainning accuracy 0.96\n",
      "step 2200, trainning accuracy 1\n",
      "step 2300, trainning accuracy 1\n",
      "step 2400, trainning accuracy 0.96\n",
      "step 2500, trainning accuracy 1\n",
      "step 2600, trainning accuracy 1\n",
      "step 2700, trainning accuracy 1\n",
      "step 2800, trainning accuracy 0.98\n",
      "step 2900, trainning accuracy 1\n",
      "step 3000, trainning accuracy 0.98\n",
      "step 3100, trainning accuracy 1\n",
      "step 3200, trainning accuracy 1\n",
      "step 3300, trainning accuracy 1\n",
      "step 3400, trainning accuracy 0.98\n",
      "step 3500, trainning accuracy 0.94\n",
      "step 3600, trainning accuracy 1\n",
      "step 3700, trainning accuracy 0.96\n",
      "step 3800, trainning accuracy 1\n",
      "step 3900, trainning accuracy 0.98\n",
      "step 4000, trainning accuracy 1\n",
      "step 4100, trainning accuracy 1\n",
      "step 4200, trainning accuracy 1\n",
      "step 4300, trainning accuracy 1\n",
      "step 4400, trainning accuracy 0.98\n",
      "step 4500, trainning accuracy 1\n",
      "step 4600, trainning accuracy 0.98\n",
      "step 4700, trainning accuracy 1\n",
      "step 4800, trainning accuracy 1\n",
      "step 4900, trainning accuracy 1\n",
      "step 5000, trainning accuracy 1\n",
      "step 5100, trainning accuracy 0.98\n",
      "step 5200, trainning accuracy 0.98\n",
      "step 5300, trainning accuracy 1\n",
      "step 5400, trainning accuracy 1\n",
      "step 5500, trainning accuracy 0.98\n",
      "step 5600, trainning accuracy 1\n",
      "step 5700, trainning accuracy 0.98\n",
      "step 5800, trainning accuracy 0.98\n",
      "step 5900, trainning accuracy 1\n",
      "step 6000, trainning accuracy 1\n",
      "step 6100, trainning accuracy 1\n",
      "step 6200, trainning accuracy 1\n",
      "step 6300, trainning accuracy 1\n",
      "step 6400, trainning accuracy 1\n",
      "step 6500, trainning accuracy 0.98\n",
      "step 6600, trainning accuracy 1\n",
      "step 6700, trainning accuracy 0.98\n",
      "step 6800, trainning accuracy 0.98\n",
      "step 6900, trainning accuracy 1\n",
      "step 7000, trainning accuracy 1\n",
      "step 7100, trainning accuracy 1\n",
      "step 7200, trainning accuracy 1\n",
      "step 7300, trainning accuracy 0.98\n",
      "step 7400, trainning accuracy 1\n",
      "step 7500, trainning accuracy 1\n",
      "step 7600, trainning accuracy 1\n",
      "step 7700, trainning accuracy 1\n",
      "step 7800, trainning accuracy 1\n",
      "step 7900, trainning accuracy 0.98\n",
      "step 8000, trainning accuracy 1\n",
      "step 8100, trainning accuracy 1\n",
      "step 8200, trainning accuracy 1\n",
      "step 8300, trainning accuracy 0.98\n",
      "step 8400, trainning accuracy 1\n",
      "step 8500, trainning accuracy 1\n",
      "step 8600, trainning accuracy 0.98\n",
      "step 8700, trainning accuracy 1\n",
      "step 8800, trainning accuracy 1\n",
      "step 8900, trainning accuracy 1\n",
      "step 9000, trainning accuracy 1\n",
      "step 9100, trainning accuracy 1\n",
      "step 9200, trainning accuracy 1\n",
      "step 9300, trainning accuracy 1\n",
      "step 9400, trainning accuracy 1\n",
      "step 9500, trainning accuracy 0.98\n",
      "step 9600, trainning accuracy 1\n",
      "step 9700, trainning accuracy 1\n",
      "step 9800, trainning accuracy 0.98\n",
      "step 9900, trainning accuracy 1\n",
      "step 10000, trainning accuracy 1\n",
      "step 10100, trainning accuracy 0.98\n",
      "step 10200, trainning accuracy 1\n",
      "step 10300, trainning accuracy 0.98\n",
      "step 10400, trainning accuracy 1\n",
      "step 10500, trainning accuracy 1\n",
      "step 10600, trainning accuracy 1\n",
      "step 10700, trainning accuracy 1\n",
      "step 10800, trainning accuracy 1\n",
      "step 10900, trainning accuracy 1\n",
      "step 11000, trainning accuracy 1\n",
      "step 11100, trainning accuracy 1\n",
      "step 11200, trainning accuracy 1\n",
      "step 11300, trainning accuracy 1\n",
      "step 11400, trainning accuracy 1\n",
      "step 11500, trainning accuracy 1\n",
      "step 11600, trainning accuracy 0.98\n",
      "step 11700, trainning accuracy 1\n",
      "step 11800, trainning accuracy 1\n",
      "step 11900, trainning accuracy 1\n",
      "step 12000, trainning accuracy 1\n",
      "step 12100, trainning accuracy 1\n",
      "step 12200, trainning accuracy 1\n",
      "step 12300, trainning accuracy 1\n",
      "step 12400, trainning accuracy 1\n",
      "step 12500, trainning accuracy 1\n",
      "step 12600, trainning accuracy 1\n",
      "step 12700, trainning accuracy 1\n",
      "step 12800, trainning accuracy 0.98\n",
      "step 12900, trainning accuracy 1\n",
      "step 13000, trainning accuracy 1\n",
      "step 13100, trainning accuracy 1\n",
      "step 13200, trainning accuracy 1\n",
      "step 13300, trainning accuracy 1\n",
      "step 13400, trainning accuracy 1\n",
      "step 13500, trainning accuracy 1\n",
      "step 13600, trainning accuracy 0.98\n",
      "step 13700, trainning accuracy 1\n",
      "step 13800, trainning accuracy 1\n",
      "step 13900, trainning accuracy 1\n",
      "step 14000, trainning accuracy 1\n",
      "step 14100, trainning accuracy 1\n",
      "step 14200, trainning accuracy 0.98\n",
      "step 14300, trainning accuracy 1\n",
      "step 14400, trainning accuracy 1\n",
      "step 14500, trainning accuracy 1\n",
      "step 14600, trainning accuracy 1\n",
      "step 14700, trainning accuracy 1\n",
      "step 14800, trainning accuracy 1\n",
      "step 14900, trainning accuracy 1\n",
      "step 15000, trainning accuracy 1\n",
      "step 15100, trainning accuracy 1\n",
      "step 15200, trainning accuracy 1\n",
      "step 15300, trainning accuracy 1\n",
      "step 15400, trainning accuracy 1\n",
      "step 15500, trainning accuracy 1\n",
      "step 15600, trainning accuracy 1\n",
      "step 15700, trainning accuracy 1\n",
      "step 15800, trainning accuracy 1\n",
      "step 15900, trainning accuracy 1\n",
      "step 16000, trainning accuracy 1\n",
      "step 16100, trainning accuracy 1\n",
      "step 16200, trainning accuracy 1\n",
      "step 16300, trainning accuracy 1\n",
      "step 16400, trainning accuracy 1\n",
      "step 16500, trainning accuracy 1\n",
      "step 16600, trainning accuracy 1\n",
      "step 16700, trainning accuracy 1\n",
      "step 16800, trainning accuracy 1\n",
      "step 16900, trainning accuracy 1\n",
      "step 17000, trainning accuracy 1\n",
      "step 17100, trainning accuracy 1\n",
      "step 17200, trainning accuracy 1\n",
      "step 17300, trainning accuracy 1\n",
      "step 17400, trainning accuracy 1\n",
      "step 17500, trainning accuracy 1\n",
      "step 17600, trainning accuracy 1\n",
      "step 17700, trainning accuracy 1\n",
      "step 17800, trainning accuracy 1\n",
      "step 17900, trainning accuracy 1\n",
      "step 18000, trainning accuracy 1\n",
      "step 18100, trainning accuracy 1\n",
      "step 18200, trainning accuracy 1\n",
      "step 18300, trainning accuracy 1\n",
      "step 18400, trainning accuracy 1\n",
      "step 18500, trainning accuracy 1\n",
      "step 18600, trainning accuracy 1\n",
      "step 18700, trainning accuracy 1\n",
      "step 18800, trainning accuracy 1\n",
      "step 18900, trainning accuracy 1\n",
      "step 19000, trainning accuracy 1\n",
      "step 19100, trainning accuracy 1\n",
      "step 19200, trainning accuracy 0.98\n",
      "step 19300, trainning accuracy 1\n",
      "step 19400, trainning accuracy 1\n",
      "step 19500, trainning accuracy 1\n",
      "step 19600, trainning accuracy 1\n",
      "step 19700, trainning accuracy 1\n",
      "step 19800, trainning accuracy 1\n",
      "step 19900, trainning accuracy 1\n"
     ]
    }
   ],
   "source": [
    "# train\n",
    "\n",
    "with tf.Session() as sess:\n",
    "    sess.run(tf.global_variables_initializer())\n",
    "    for i in range(20000):\n",
    "        batch = mnist.train.next_batch(50)\n",
    "        if i % 100 == 0:\n",
    "            train_accuracy = accuracy.eval({\n",
    "                x: batch[0],\n",
    "                y_: batch[1],\n",
    "                keep_prob: 1.0\n",
    "            })\n",
    "            print(\"step %d, trainning accuracy %g\" % (i, train_accuracy))\n",
    "        train_step.run({x: batch[0], y_: batch[1], keep_prob: 0.5})\n",
    "    print(\"test accuracy %g\" % accuracy.eval({\n",
    "        x: mnist.test.images,\n",
    "        y_: mnist.test.labels,\n",
    "        keep_prob: 1.0\n",
    "    }))"
   ]
  },
  {
   "cell_type": "code",
   "execution_count": null,
   "metadata": {
    "collapsed": true
   },
   "outputs": [],
   "source": []
  }
 ],
 "metadata": {
  "kernelspec": {
   "display_name": "Python 3",
   "language": "python",
   "name": "python3"
  },
  "language_info": {
   "codemirror_mode": {
    "name": "ipython",
    "version": 3
   },
   "file_extension": ".py",
   "mimetype": "text/x-python",
   "name": "python",
   "nbconvert_exporter": "python",
   "pygments_lexer": "ipython3",
   "version": "3.5.2"
  }
 },
 "nbformat": 4,
 "nbformat_minor": 2
}
